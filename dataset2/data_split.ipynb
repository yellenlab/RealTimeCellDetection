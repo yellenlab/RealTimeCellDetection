{
 "cells": [
  {
   "cell_type": "code",
   "execution_count": 8,
   "metadata": {},
   "outputs": [],
   "source": [
    "import os\n",
    "import numpy as np\n",
    "import json"
   ]
  },
  {
   "cell_type": "code",
   "execution_count": 9,
   "metadata": {},
   "outputs": [
    {
     "name": "stdout",
     "output_type": "stream",
     "text": [
      "./images/BF_ST_006_APT_020-NoDrug-02-03-201806031845-z_0-0267-0341-11.jpg\n",
      "Not exists!\n",
      "./images/BF_ST_006_APT_020-NoDrug-02-03-201806040836-z_0-0263-0343-00.jpg\n",
      "Not exists!\n"
     ]
    }
   ],
   "source": [
    "names_ = os.listdir('./annotations/')\n",
    "names = []\n",
    "for n in names_:\n",
    "    if not os.path.exists('./images/'+n[:-4]+'.jpeg'):\n",
    "        print('./images/'+n[:-4]+'.jpg')\n",
    "        print('Not exists!')\n",
    "    else:\n",
    "        names.append(n)"
   ]
  },
  {
   "cell_type": "code",
   "execution_count": 11,
   "metadata": {},
   "outputs": [],
   "source": [
    "np.random.shuffle(names)\n",
    "names = [n[:-4] for n in names]\n",
    "n = len(names)"
   ]
  },
  {
   "cell_type": "code",
   "execution_count": 12,
   "metadata": {},
   "outputs": [],
   "source": [
    "with open('train.json', 'w') as f:\n",
    "    json.dump(names[:int(0.7*n)], f)"
   ]
  },
  {
   "cell_type": "code",
   "execution_count": 13,
   "metadata": {},
   "outputs": [],
   "source": [
    "with open('val.json', 'w') as f:\n",
    "    json.dump(names[int(0.7*n):int(0.9*n)], f)"
   ]
  },
  {
   "cell_type": "code",
   "execution_count": 14,
   "metadata": {},
   "outputs": [],
   "source": [
    "with open('test.json', 'w') as f:\n",
    "    json.dump(names[int(0.9*n):], f)"
   ]
  },
  {
   "cell_type": "code",
   "execution_count": 10,
   "metadata": {},
   "outputs": [],
   "source": [
    "for n in names:\n",
    "    if not os.path.exists('./images/'+n[:-4]+'.jpeg'):\n",
    "        print('./images/'+n[:-4]+'.jpg')\n",
    "        print(n)"
   ]
  },
  {
   "cell_type": "code",
   "execution_count": null,
   "metadata": {},
   "outputs": [],
   "source": []
  }
 ],
 "metadata": {
  "kernelspec": {
   "display_name": "Python 3",
   "language": "python",
   "name": "python3"
  },
  "language_info": {
   "codemirror_mode": {
    "name": "ipython",
    "version": 3
   },
   "file_extension": ".py",
   "mimetype": "text/x-python",
   "name": "python",
   "nbconvert_exporter": "python",
   "pygments_lexer": "ipython3",
   "version": "3.6.9"
  }
 },
 "nbformat": 4,
 "nbformat_minor": 2
}
